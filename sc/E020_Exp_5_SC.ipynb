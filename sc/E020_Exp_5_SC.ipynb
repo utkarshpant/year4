{
 "cells": [
  {
   "cell_type": "markdown",
   "metadata": {},
   "source": [
    "# Implementing the Logic Gates using a Hebb Network"
   ]
  },
  {
   "cell_type": "markdown",
   "metadata": {},
   "source": [
    "Hebbian networks can be represented by two rules:\n",
    "\n",
    "1. If two neurons on either side of a connection are simultaneously activated, thw weight of a connection is improved.\n",
    "\n",
    "2. If two neurons on either side of a connection are activated asynchronously, the weight of the connection is decreased.\n",
    "\n",
    "This law provides the basis for learning without  teacher; learning, here, is a _local phenomenon_ occuring without feedback from the environment. "
   ]
  },
  {
   "cell_type": "markdown",
   "metadata": {},
   "source": [
    "The Hebbian rule is the simplest. The weight vector is found to increase proportionately to the product of the input and learning signal.\n",
    "\n",
    "# Therefore, $w_{i}(new) = w_{i}(old) + x_{i}y$"
   ]
  },
  {
   "cell_type": "code",
   "execution_count": 8,
   "metadata": {},
   "outputs": [
    {
     "name": "stdout",
     "output_type": "stream",
     "text": [
      "Enter the number of inputs to the neuron:\t2\n",
      "The neuron has 2 inputs\n",
      "Enter the weights for each neuron with spaces:\n",
      "0 0\n",
      "\n",
      "The weight vectors are:\n",
      " [0, 0]\n",
      "\n",
      "The input vectors are:\n",
      " [[0, 0, 0, 0], [0, 0, 0, 0]]\n"
     ]
    }
   ],
   "source": [
    "import numpy\n",
    "\n",
    "n_ip = int(input(\"Enter the number of inputs to the neuron:\\t\"))\n",
    "print(\"The neuron has %d inputs\" % (n_ip))\n",
    "\n",
    "w_curr = [int(x) for x in input(\"Enter the weights for each neuron with spaces:\\n\").split()]\n",
    "x_ip = [[ 0 for i in range(n_ip ** 2)] for i in range(n_ip)]\n",
    "t = [1, -1, -1, -1]\n",
    "bias = 0\n",
    "\n",
    "print(\"\\nThe weight vectors are:\\n\", w_curr)\n",
    "print(\"\\nThe input vectors are:\\n\", x_ip)\n",
    "# print(len(t))"
   ]
  },
  {
   "cell_type": "code",
   "execution_count": 9,
   "metadata": {},
   "outputs": [
    {
     "name": "stdout",
     "output_type": "stream",
     "text": [
      "Enter input value 1 for input 1:\t1\n",
      "Enter input value 2 for input 1:\t1\n",
      "Enter input value 3 for input 1:\t-1\n",
      "Enter input value 4 for input 1:\t-1\n",
      "Enter input value 1 for input 2:\t1\n",
      "Enter input value 2 for input 2:\t-1\n",
      "Enter input value 3 for input 2:\t1\n",
      "Enter input value 4 for input 2:\t-1\n",
      "\n",
      "The input vectors are now:\n",
      "\n",
      "[1, 1, -1, -1]\n",
      "[1, -1, 1, -1]\n"
     ]
    }
   ],
   "source": [
    "# initialise weights to 0 initially\n",
    "for i in range(n_ip):\n",
    "    for j in range(n_ip ** 2):\n",
    "        x_ip[i][j] = int(input(\"Enter input value %d for input %d:\\t\" % (j + 1, i + 1)))\n",
    "\n",
    "print(\"\\nThe input vectors are now:\\n\")\n",
    "for row in x_ip:\n",
    "    print(row)"
   ]
  },
  {
   "cell_type": "code",
   "execution_count": 10,
   "metadata": {},
   "outputs": [
    {
     "name": "stdout",
     "output_type": "stream",
     "text": [
      "-2\n"
     ]
    }
   ],
   "source": [
    "w_old = w_curr \n",
    "for i in range(n_ip ** 2):\n",
    "    for j in range(n_ip):\n",
    "        w_curr[j] = w_old[j] + x_ip[j][i] * t[i]\n",
    "        w_old = w_curr\n",
    "    bias = bias + t[i]\n",
    "    \n",
    "print(bias)\n",
    "\n",
    "#         print(w_curr[j], w_old[j], x_ip[j][i], i)"
   ]
  },
  {
   "cell_type": "code",
   "execution_count": 43,
   "metadata": {},
   "outputs": [
    {
     "name": "stdout",
     "output_type": "stream",
     "text": [
      "\n",
      "iteration 0\n",
      "w[ 1 ]  *  x[ 1 ]\n",
      "2  *  1  =  2\n",
      "temp ip_sum =  2\n",
      "w[ 2 ]  *  x[ 2 ]\n",
      "2  *  1  =  2\n",
      "temp ip_sum =  4\n",
      "\n",
      "iteration 1\n",
      "w[ 1 ]  *  x[ 1 ]\n",
      "2  *  1  =  2\n",
      "temp ip_sum =  2\n",
      "w[ 2 ]  *  x[ 2 ]\n",
      "2  *  -1  =  -2\n",
      "temp ip_sum =  0\n",
      "\n",
      "iteration 2\n",
      "w[ 1 ]  *  x[ 1 ]\n",
      "2  *  -1  =  -2\n",
      "temp ip_sum =  -2\n",
      "w[ 2 ]  *  x[ 2 ]\n",
      "2  *  1  =  2\n",
      "temp ip_sum =  0\n",
      "\n",
      "iteration 3\n",
      "w[ 1 ]  *  x[ 1 ]\n",
      "2  *  -1  =  -2\n",
      "temp ip_sum =  -2\n",
      "w[ 2 ]  *  x[ 2 ]\n",
      "2  *  -1  =  -2\n",
      "temp ip_sum =  -4\n"
     ]
    }
   ],
   "source": [
    "t_predicted = [0, 0, 0, 0]\n",
    "\n",
    "for i in range(n_ip ** 2):\n",
    "    ip_sum = 0\n",
    "    print(\"\\niteration\", i)\n",
    "    for j in range(n_ip):\n",
    "        print(\"w[\", j + 1, \"]\", \" * \", \"x[\", j + 1, \"]\")\n",
    "        print(w_curr[j], \" * \", x_ip[j][i], \" = \", (w_curr[j] * x_ip[j][i]))\n",
    "        ip_sum = ip_sum + (w_curr[j] * x_ip[j][i])\n",
    "        print(\"temp ip_sum = \", ip_sum)\n",
    "\n",
    "#         print(ip_sum)\n",
    "    final_out = ip_sum + bias\n",
    "    if (final_out > 0):\n",
    "        t_predicted[i] = 1\n",
    "    else:\n",
    "        t_predicted[i] = 0"
   ]
  },
  {
   "cell_type": "markdown",
   "metadata": {},
   "source": [
    "Therefore, once the training is done, the weights and threshold can be used to derive the outputs for the logic gates. The final truth table obtained is shows below:"
   ]
  },
  {
   "cell_type": "code",
   "execution_count": 47,
   "metadata": {},
   "outputs": [
    {
     "name": "stdout",
     "output_type": "stream",
     "text": [
      "x1\tx2\ty\n",
      "1 \t 1 \t 1\n",
      "1 \t -1 \t 0\n",
      "-1 \t 1 \t 0\n",
      "-1 \t -1 \t 0\n"
     ]
    }
   ],
   "source": [
    "print(\"x1\\tx2\\ty\")\n",
    "for i in range(n_ip ** 2):\n",
    "    print(x_ip[0][i], \"\\t\", x_ip[1][i], \"\\t\", t_predicted[i])"
   ]
  },
  {
   "cell_type": "code",
   "execution_count": null,
   "metadata": {},
   "outputs": [],
   "source": []
  }
 ],
 "metadata": {
  "kernelspec": {
   "display_name": "Python 3",
   "language": "python",
   "name": "python3"
  },
  "language_info": {
   "codemirror_mode": {
    "name": "ipython",
    "version": 3
   },
   "file_extension": ".py",
   "mimetype": "text/x-python",
   "name": "python",
   "nbconvert_exporter": "python",
   "pygments_lexer": "ipython3",
   "version": "3.7.3"
  }
 },
 "nbformat": 4,
 "nbformat_minor": 2
}
