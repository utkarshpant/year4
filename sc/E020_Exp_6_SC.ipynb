{
 "cells": [
  {
   "cell_type": "markdown",
   "metadata": {},
   "source": [
    "## Implementing Perceptrons in Python."
   ]
  },
  {
   "cell_type": "markdown",
   "metadata": {},
   "source": [
    "In the Perceptron learning algorithm, weights are updated only when the target and the observed output _do not_ match."
   ]
  },
  {
   "cell_type": "code",
   "execution_count": 2,
   "metadata": {},
   "outputs": [
    {
     "name": "stdout",
     "output_type": "stream",
     "text": [
      "Enter the number of inputs to the neuron:\t2\n",
      "The neuron has 2 inputs\n",
      "Enter the weights for each neuron with spaces:\n",
      "1 1\n",
      "Enter the number of rows in the data:4\n",
      "\n",
      "The weight vectors are:\n",
      " [1, 1]\t\n",
      "The input vectors are:\n",
      "Neuron 1 :\n",
      "\n",
      "[0, 0, 0, 0] \n",
      "\n",
      "Neuron 2 :\n",
      "\n",
      "[0, 0, 0, 0] \n",
      "\n"
     ]
    }
   ],
   "source": [
    "import numpy\n",
    "\n",
    "alpha = 0.75\n",
    "\n",
    "n_ip = int(input(\"Enter the number of inputs to the neuron:\\t\"))\n",
    "print(\"The neuron has %d inputs\" % (n_ip))\n",
    "\n",
    "w_curr = [int(x) for x in input(\"Enter the weights for each neuron with spaces:\\n\").split()]\n",
    "n_rows = int(input(\"Enter the number of rows in the data:\"))\n",
    "x_ip = [[ 0 for i in range(n_rows)] for i in range(n_ip)]\n",
    "t = [1, -1, -1, -1]\n",
    "bias_g = 1\n",
    "\n",
    "print(\"\\nThe weight vectors are:\\n\", w_curr, end = \"\\t\")\n",
    "print(\"\\nThe input vectors are:\")\n",
    "for i in range(n_ip):\n",
    "    print(\"Neuron\", i + 1, \":\\n\")\n",
    "    print(x_ip[i], \"\\n\")\n",
    "# print(len(t))"
   ]
  },
  {
   "cell_type": "code",
   "execution_count": null,
   "metadata": {},
   "outputs": [],
   "source": [
    "# input vectors for each neuron\n",
    "for i in range(n_rows):\n",
    "    for j in range(n_ip):\n",
    "        x_ip[j][i] = int(input(\"Enter input value %d for neuron %d:\\t\" % (i + 1, j + 1)))\n",
    "\n",
    "print(\"\\nThe input vectors are now:\\n\")\n",
    "for row in x_ip:\n",
    "    print(row)\n",
    "    \n",
    "t = [int(x) for x in input(\"Enter the outputs for each iteration, separated by spaces:\").split()]\n",
    "\n",
    "print(\"The input data and outputs are shown below:\\n\")\n",
    "for i in range(n_ip):\n",
    "    print"
   ]
  },
  {
   "cell_type": "code",
   "execution_count": 31,
   "metadata": {},
   "outputs": [],
   "source": [
    "# updating weights\n",
    "y_predicted = [0 for i in range(n_rows)]\n",
    "\n",
    "#         w_curr[j] = w_old[j] + x_ip[j][i] * t[i]\n",
    "#         w_old = w_curr\n",
    "#     bias = bias + t[i]\n",
    "    \n",
    "# print(bias_g)"
   ]
  },
  {
   "cell_type": "code",
   "execution_count": 35,
   "metadata": {},
   "outputs": [
    {
     "name": "stdout",
     "output_type": "stream",
     "text": [
      "Running epoch fn.\n",
      "\n",
      "Finished running epoch fn.\n",
      "\n"
     ]
    }
   ],
   "source": [
    "print(\"Running epoch fn.\\n\")\n",
    "w_old = w_curr\n",
    "for i in range(n_rows):\n",
    "    sum_ip = 0\n",
    "    for j in range(n_ip):\n",
    "        sum_ip = sum_ip + w_curr[j] * x_ip[j][i]\n",
    "    if ((sum_ip + bias) > 0):\n",
    "        y_predicted[i] = 1\n",
    "    else:\n",
    "        y_predicted[i] = 0\n",
    "    if (y_predicted[i] == t[i]):\n",
    "        continue\n",
    "    elif (y_predicted[i] != t[j]):\n",
    "        w_curr[j] = w_curr[j] + (alpha * x_ip[j][i] * t[i])\n",
    "        bias_g = bias_g + alpha * t[j]\n",
    "print(\"Finished running epoch fn.\\n\")"
   ]
  },
  {
   "cell_type": "code",
   "execution_count": 36,
   "metadata": {},
   "outputs": [
    {
     "name": "stdout",
     "output_type": "stream",
     "text": [
      "[1, 3.25]\n"
     ]
    }
   ],
   "source": [
    "print(w_curr)"
   ]
  },
  {
   "cell_type": "code",
   "execution_count": 37,
   "metadata": {},
   "outputs": [
    {
     "name": "stdout",
     "output_type": "stream",
     "text": [
      "[0, 1, 0, 1]\n"
     ]
    }
   ],
   "source": [
    "print(y_predicted)"
   ]
  }
 ],
 "metadata": {
  "kernelspec": {
   "display_name": "Python 3",
   "language": "python",
   "name": "python3"
  },
  "language_info": {
   "codemirror_mode": {
    "name": "ipython",
    "version": 3
   },
   "file_extension": ".py",
   "mimetype": "text/x-python",
   "name": "python",
   "nbconvert_exporter": "python",
   "pygments_lexer": "ipython3",
   "version": "3.7.3"
  }
 },
 "nbformat": 4,
 "nbformat_minor": 2
}
