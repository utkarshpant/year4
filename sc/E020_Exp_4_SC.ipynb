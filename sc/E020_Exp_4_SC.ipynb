{
 "cells": [
  {
   "cell_type": "code",
   "execution_count": 1,
   "metadata": {},
   "outputs": [],
   "source": [
    "import numpy as np"
   ]
  },
  {
   "cell_type": "markdown",
   "metadata": {},
   "source": [
    "## OR Gate"
   ]
  },
  {
   "cell_type": "code",
   "execution_count": 2,
   "metadata": {},
   "outputs": [
    {
     "name": "stdout",
     "output_type": "stream",
     "text": [
      "Enter the weights:\t1 1\n"
     ]
    }
   ],
   "source": [
    "#neurons = int(input(\"Enter the number of neurons/inputs:\\t\"))\n",
    "#print(\"This NN has %d neurons.\\n\" % (neurons))\n",
    "\n",
    "neurons = 2\n",
    "(w1, w2) = (int(x) for x in input(\"Enter the weights:\\t\").split())\n",
    "#print(w1, w2)"
   ]
  },
  {
   "cell_type": "code",
   "execution_count": 3,
   "metadata": {},
   "outputs": [
    {
     "name": "stdout",
     "output_type": "stream",
     "text": [
      "Enter the threshold:\t0.5\n"
     ]
    }
   ],
   "source": [
    "thr = float(input(\"Enter the threshold:\\t\"))"
   ]
  },
  {
   "cell_type": "code",
   "execution_count": 16,
   "metadata": {},
   "outputs": [
    {
     "name": "stdout",
     "output_type": "stream",
     "text": [
      "Enter input values:\t0 0\n",
      "0 0 0\n",
      "Enter input values:\t0 1\n",
      "0 1 0\n",
      "Enter input values:\t1 0\n",
      "1 0 0\n",
      "Enter input values:\t1 1\n",
      "1 1 1\n"
     ]
    }
   ],
   "source": [
    "for i in range(4):\n",
    "    (x1, x2) = (int(x) for x in input(\"Enter input values:\\t\").split())\n",
    "    if ((w1 * x1) + (w2 * x2) > thr):\n",
    "        out = 1\n",
    "    else:\n",
    "        out = 0\n",
    "#     print(x1, x2, out)\n",
    "    print(x1, x2, out)"
   ]
  },
  {
   "cell_type": "markdown",
   "metadata": {},
   "source": [
    "## AND Gate"
   ]
  },
  {
   "cell_type": "code",
   "execution_count": 14,
   "metadata": {},
   "outputs": [
    {
     "name": "stdout",
     "output_type": "stream",
     "text": [
      "Enter the weights:\t1 1\n"
     ]
    }
   ],
   "source": [
    "#neurons = int(input(\"Enter the number of neurons/inputs:\\t\"))\n",
    "#print(\"This NN has %d neurons.\\n\" % (neurons))\n",
    "\n",
    "neurons = 2\n",
    "(w1, w2) = (int(x) for x in input(\"Enter the weights:\\t\").split())\n",
    "#print(w1, w2)"
   ]
  },
  {
   "cell_type": "code",
   "execution_count": 15,
   "metadata": {},
   "outputs": [
    {
     "name": "stdout",
     "output_type": "stream",
     "text": [
      "Enter the threshold:\t1.5\n"
     ]
    }
   ],
   "source": [
    "thr = float(input(\"Enter the threshold:\\t\"))"
   ]
  },
  {
   "cell_type": "code",
   "execution_count": 17,
   "metadata": {},
   "outputs": [
    {
     "name": "stdout",
     "output_type": "stream",
     "text": [
      "Enter input values:\t0 0\n",
      "0 0 0\n",
      "Enter input values:\t0 1\n",
      "0 1 0\n",
      "Enter input values:\t1 0\n",
      "1 0 0\n",
      "Enter input values:\t1 1\n",
      "1 1 1\n"
     ]
    }
   ],
   "source": [
    "for i in range(4):\n",
    "    (x1, x2) = (int(x) for x in input(\"Enter input values:\\t\").split())\n",
    "    if ((w1 * x1) + (w2 * x2) > thr):\n",
    "        out = 1\n",
    "    else:\n",
    "        out = 0\n",
    "#     print(x1, x2, out)\n",
    "    print(x1, x2, out)"
   ]
  },
  {
   "cell_type": "markdown",
   "metadata": {},
   "source": [
    "## NOT Gate"
   ]
  },
  {
   "cell_type": "code",
   "execution_count": 18,
   "metadata": {},
   "outputs": [
    {
     "name": "stdout",
     "output_type": "stream",
     "text": [
      "Enter the weight:\t-1\n"
     ]
    }
   ],
   "source": [
    "#neurons = int(input(\"Enter the number of neurons/inputs:\\t\"))\n",
    "#print(\"This NN has %d neurons.\\n\" % (neurons))\n",
    "\n",
    "neurons = 1\n",
    "w1 = int(input(\"Enter the weight:\\t\"))\n",
    "#print(w1, w2)"
   ]
  },
  {
   "cell_type": "code",
   "execution_count": 19,
   "metadata": {},
   "outputs": [
    {
     "name": "stdout",
     "output_type": "stream",
     "text": [
      "Enter the threshold:\t-0.5\n"
     ]
    }
   ],
   "source": [
    "thr = float(input(\"Enter the threshold:\\t\"))"
   ]
  },
  {
   "cell_type": "code",
   "execution_count": null,
   "metadata": {},
   "outputs": [],
   "source": [
    "for i in range(2):\n",
    "    x1 = int((input(\"Enter input value:\\t\")))\n",
    "    if ((w1 * x1) > thr):\n",
    "        out = 1\n",
    "    else:\n",
    "        out = 0\n",
    "#     print(x1, x2, out)\n",
    "    print(x1, out)"
   ]
  }
 ],
 "metadata": {
  "kernelspec": {
   "display_name": "Python 3",
   "language": "python",
   "name": "python3"
  },
  "language_info": {
   "codemirror_mode": {
    "name": "ipython",
    "version": 3
   },
   "file_extension": ".py",
   "mimetype": "text/x-python",
   "name": "python",
   "nbconvert_exporter": "python",
   "pygments_lexer": "ipython3",
   "version": "3.7.3"
  }
 },
 "nbformat": 4,
 "nbformat_minor": 2
}
