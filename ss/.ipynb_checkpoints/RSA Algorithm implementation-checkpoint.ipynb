{
 "cells": [
  {
   "cell_type": "markdown",
   "metadata": {},
   "source": [
    "# Implementing the RSA Algorithm in Python"
   ]
  },
  {
   "cell_type": "markdown",
   "metadata": {},
   "source": [
    "The Rivest-Shamir-Adleman (RSA) algorithm is one of the most popular and secure public-key encryption methods. The algorithm capitalizes on the fact that there is no efficient way to factor very large (100-200 digit) numbers.\n",
    "Using an encryption key (e,n), the algorithm is as follows:\n",
    "\n",
    "1. Represent the message as an integer between 0 and (n-1). Large messages can be broken up into a number of blocks. Each block would then be represented by an integer in the same range.\n",
    "2. Encrypt the message by raising it to the eth power modulo n. The result is a ciphertext message C.\n",
    "3. To decrypt ciphertext message C, raise it to another power d modulo n.\n",
    "\n",
    "The encryption key **(e,n)** is made public. The decryption key **(d,n)** is kept private by the user."
   ]
  },
  {
   "cell_type": "code",
   "execution_count": 185,
   "metadata": {},
   "outputs": [],
   "source": [
    "import math\n",
    "import random"
   ]
  },
  {
   "cell_type": "markdown",
   "metadata": {},
   "source": [
    "### Step 1: Decide a message (m):"
   ]
  },
  {
   "cell_type": "code",
   "execution_count": 186,
   "metadata": {},
   "outputs": [
    {
     "name": "stdout",
     "output_type": "stream",
     "text": [
      "m = 56\n"
     ]
    }
   ],
   "source": [
    "# say m is the message;\n",
    "m = random.randint(1, 100)\n",
    "print(\"m =\", m)"
   ]
  },
  {
   "cell_type": "markdown",
   "metadata": {},
   "source": [
    "### Step 2: Determine values for each parameter that forms the public and private keys:"
   ]
  },
  {
   "cell_type": "markdown",
   "metadata": {},
   "source": [
    "#### Choosing (p) and (q):"
   ]
  },
  {
   "cell_type": "code",
   "execution_count": 187,
   "metadata": {},
   "outputs": [
    {
     "name": "stdout",
     "output_type": "stream",
     "text": [
      "p = 29 \n",
      "q = 11 \n",
      "phi = 280\n"
     ]
    }
   ],
   "source": [
    "# choose 2 primes that are sufficiently large;\n",
    "\n",
    "def isPrime(arg):\n",
    "    num = int(arg)\n",
    "    if (num > 2):    \n",
    "        for i in range(2, num):\n",
    "            if (num % i == 0):\n",
    "                return False\n",
    "        return True\n",
    "\n",
    "p = random.randint(1, 50)\n",
    "q = random.randint(1, 50)\n",
    "\n",
    "while (isPrime(p) == False):\n",
    "    p += 1\n",
    "\n",
    "while (isPrime(q) == False):\n",
    "    q += 1    \n",
    "\n",
    "# p = 53\n",
    "# q = 59\n",
    "\n",
    "phi = (p - 1) * (q - 1)\n",
    "\n",
    "# p and q are large primes that are difficult to chack for primality\n",
    "print(\"p =\", p, \"\\nq =\", q, \"\\nphi =\", phi)"
   ]
  },
  {
   "cell_type": "markdown",
   "metadata": {},
   "source": [
    "#### Calculating (n):"
   ]
  },
  {
   "cell_type": "code",
   "execution_count": 188,
   "metadata": {},
   "outputs": [
    {
     "name": "stdout",
     "output_type": "stream",
     "text": [
      "n = p * q = 319\n"
     ]
    }
   ],
   "source": [
    "n = p * q\n",
    "print(\"n = p * q =\", n)"
   ]
  },
  {
   "cell_type": "markdown",
   "metadata": {},
   "source": [
    "#### Calculating (e):"
   ]
  },
  {
   "cell_type": "code",
   "execution_count": 189,
   "metadata": {},
   "outputs": [
    {
     "name": "stdout",
     "output_type": "stream",
     "text": [
      "exp = 3\n"
     ]
    }
   ],
   "source": [
    "exp = int()\n",
    "\n",
    "for i in range(2, phi):\n",
    "    if (math.gcd(i, phi) == 1):\n",
    "        exp = i\n",
    "        break\n",
    "\n",
    "print(\"exp =\", exp)"
   ]
  },
  {
   "cell_type": "markdown",
   "metadata": {},
   "source": [
    "#### Calculating (d): [Extended Euclidean algorithm](https://en.wikipedia.org/wiki/Extended_Euclidean_algorithm#Iterative_method_2):"
   ]
  },
  {
   "cell_type": "code",
   "execution_count": 190,
   "metadata": {},
   "outputs": [
    {
     "name": "stdout",
     "output_type": "stream",
     "text": [
      "d = 187\n"
     ]
    }
   ],
   "source": [
    "# assuming k = 2 here;\n",
    "k = 2\n",
    "d = int(((k * phi) + 1) / exp)\n",
    "print(\"d =\", d)"
   ]
  },
  {
   "cell_type": "code",
   "execution_count": 191,
   "metadata": {},
   "outputs": [
    {
     "data": {
      "text/plain": [
       "166"
      ]
     },
     "execution_count": 191,
     "metadata": {},
     "output_type": "execute_result"
    }
   ],
   "source": [
    "cipher = (m ** exp) % n\n",
    "cipher"
   ]
  },
  {
   "cell_type": "code",
   "execution_count": 192,
   "metadata": {},
   "outputs": [
    {
     "data": {
      "text/plain": [
       "56"
      ]
     },
     "execution_count": 192,
     "metadata": {},
     "output_type": "execute_result"
    }
   ],
   "source": [
    "plaintext = (cipher ** d) % n\n",
    "plaintext"
   ]
  }
 ],
 "metadata": {
  "kernelspec": {
   "display_name": "Python 3",
   "language": "python",
   "name": "python3"
  },
  "language_info": {
   "codemirror_mode": {
    "name": "ipython",
    "version": 3
   },
   "file_extension": ".py",
   "mimetype": "text/x-python",
   "name": "python",
   "nbconvert_exporter": "python",
   "pygments_lexer": "ipython3",
   "version": "3.7.3"
  }
 },
 "nbformat": 4,
 "nbformat_minor": 2
}
