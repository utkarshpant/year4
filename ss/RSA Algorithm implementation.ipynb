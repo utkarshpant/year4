{
 "cells": [
  {
   "cell_type": "markdown",
   "metadata": {},
   "source": [
    "# Implementing the RSA Algorithm in Python"
   ]
  },
  {
   "cell_type": "markdown",
   "metadata": {},
   "source": [
    "The Rivest-Shamir-Adleman (RSA) algorithm is one of the most popular and secure public-key encryption methods. The algorithm capitalizes on the fact that there is no efficient way to factor very large (100-200 digit) numbers.\n",
    "Using an encryption key (e,n), the algorithm is as follows:\n",
    "\n",
    "1. Represent the message as an integer between 0 and (n-1). Large messages can be broken up into a number of blocks. Each block would then be represented by an integer in the same range.\n",
    "2. Encrypt the message by raising it to the eth power modulo n. The result is a ciphertext message C.\n",
    "3. To decrypt ciphertext message C, raise it to another power d modulo n.\n",
    "\n",
    "The encryption key **(e,n)** is made public. The decryption key **(d,n)** is kept private by the user."
   ]
  },
  {
   "cell_type": "code",
   "execution_count": 2,
   "metadata": {},
   "outputs": [],
   "source": [
    "import math\n",
    "import random"
   ]
  },
  {
   "cell_type": "markdown",
   "metadata": {},
   "source": [
    "### Step 1: Decide a message (m):"
   ]
  },
  {
   "cell_type": "code",
   "execution_count": 78,
   "metadata": {},
   "outputs": [],
   "source": [
    "# say m is the message;\n",
    "m = 18"
   ]
  },
  {
   "cell_type": "markdown",
   "metadata": {},
   "source": [
    "### Step 2: Determine values for each parameter that forms the public and private keys:"
   ]
  },
  {
   "cell_type": "markdown",
   "metadata": {},
   "source": [
    "#### Choosing (p) and (q):"
   ]
  },
  {
   "cell_type": "code",
   "execution_count": 79,
   "metadata": {},
   "outputs": [
    {
     "name": "stdout",
     "output_type": "stream",
     "text": [
      "p = 37 \n",
      "q = 43 \n",
      "phi = 1512\n"
     ]
    }
   ],
   "source": [
    "# choose 2 primes that are sufficiently large;\n",
    "\n",
    "def isPrime(arg):\n",
    "    num = int(arg)\n",
    "    if (num > 2):    \n",
    "        for i in range(2, num):\n",
    "            if (num % i == 0):\n",
    "                return False\n",
    "        return True\n",
    "\n",
    "p = random.randint(20, 50)\n",
    "q = random.randint(20, 50)\n",
    "\n",
    "while (isPrime(p) == False):\n",
    "    p = random.randint(20, 50)\n",
    "\n",
    "while (isPrime(q) == False):\n",
    "    q = random.randint(20, 50)    \n",
    "\n",
    "phi = (p - 1) * (q - 1)\n",
    "\n",
    "# p and q are large primes that are difficult to chack for primality\n",
    "print(\"p =\", p, \"\\nq =\", q, \"\\nphi =\", phi)"
   ]
  },
  {
   "cell_type": "markdown",
   "metadata": {},
   "source": [
    "#### Calculating (n):"
   ]
  },
  {
   "cell_type": "code",
   "execution_count": 80,
   "metadata": {},
   "outputs": [
    {
     "name": "stdout",
     "output_type": "stream",
     "text": [
      "n = p * q = 1591\n"
     ]
    }
   ],
   "source": [
    "n = p * q\n",
    "print(\"n = p * q =\", n)"
   ]
  },
  {
   "cell_type": "markdown",
   "metadata": {},
   "source": [
    "#### Calculating (d):"
   ]
  },
  {
   "cell_type": "code",
   "execution_count": 81,
   "metadata": {},
   "outputs": [
    {
     "name": "stdout",
     "output_type": "stream",
     "text": [
      "d = 5\n"
     ]
    }
   ],
   "source": [
    "d = 2\n",
    "\n",
    "while (math.gcd(d, phi) != 1):\n",
    "    d += 1\n",
    "\n",
    "print(\"d =\", d)"
   ]
  },
  {
   "cell_type": "code",
   "execution_count": 84,
   "metadata": {},
   "outputs": [
    {
     "data": {
      "text/plain": [
       "1"
      ]
     },
     "execution_count": 84,
     "metadata": {},
     "output_type": "execute_result"
    }
   ],
   "source": []
  },
  {
   "cell_type": "code",
   "execution_count": null,
   "metadata": {},
   "outputs": [],
   "source": []
  },
  {
   "cell_type": "code",
   "execution_count": 77,
   "metadata": {},
   "outputs": [
    {
     "data": {
      "text/plain": [
       "15"
      ]
     },
     "execution_count": 77,
     "metadata": {},
     "output_type": "execute_result"
    }
   ],
   "source": [
    "original = (cipher ** d) % n\n",
    "int(original)"
   ]
  },
  {
   "cell_type": "code",
   "execution_count": null,
   "metadata": {},
   "outputs": [],
   "source": []
  }
 ],
 "metadata": {
  "kernelspec": {
   "display_name": "Python 3",
   "language": "python",
   "name": "python3"
  },
  "language_info": {
   "codemirror_mode": {
    "name": "ipython",
    "version": 3
   },
   "file_extension": ".py",
   "mimetype": "text/x-python",
   "name": "python",
   "nbconvert_exporter": "python",
   "pygments_lexer": "ipython3",
   "version": "3.6.4"
  }
 },
 "nbformat": 4,
 "nbformat_minor": 2
}
